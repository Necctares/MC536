{
  "nbformat": 4,
  "nbformat_minor": 0,
  "metadata": {
    "colab": {
      "name": "Lab02.ipynb",
      "provenance": [],
      "collapsed_sections": []
    },
    "kernelspec": {
      "name": "python3",
      "display_name": "Python 3"
    },
    "language_info": {
      "name": "python"
    }
  },
  "cells": [
    {
      "cell_type": "markdown",
      "metadata": {
        "id": "qiqQ9g-dj94F"
      },
      "source": [
        "# Laboratório 2\n",
        "\n",
        "## Tarefa 1\n",
        "\n",
        "### Carregue o nó de Tenda dos Milagres (da versão em inglês Tent of Miracles) em Python e mostre o conteúdo JSON."
      ]
    },
    {
      "cell_type": "code",
      "metadata": {
        "id": "vXUw8wjslNWQ"
      },
      "source": [
        "import io\n",
        "import requests\n",
        "import json"
      ],
      "execution_count": 2,
      "outputs": []
    },
    {
      "cell_type": "code",
      "metadata": {
        "colab": {
          "base_uri": "https://localhost:8080/"
        },
        "id": "SSZWLq1ykSaE",
        "outputId": "41cf3ab4-25bd-45c4-8f57-0bdb19af39b5"
      },
      "source": [
        "url_template = \"http://dbpedia.org/data/{concept}.{format}\"\n",
        "\n",
        "concept = \"Tent of Miracles (novel)\"\n",
        "format = \"jsod\"\n",
        "\n",
        "concept = concept.replace(\" \", \"_\")\n",
        "\n",
        "url = url_template.replace(\"{concept}\", concept)\\\n",
        "                  .replace(\"{format}\", format)\n",
        "\n",
        "data = requests.get(url)\n",
        "js = data.json()\n",
        "print(json.dumps(js, indent=3))"
      ],
      "execution_count": 5,
      "outputs": [
        {
          "output_type": "stream",
          "text": [
            "{\n",
            "   \"d\": {\n",
            "      \"results\": [\n",
            "         {\n",
            "            \"__metadata\": {\n",
            "               \"uri\": \"http://dbpedia.org/resource/Tent_of_Miracles_(novel)\"\n",
            "            },\n",
            "            \"http://www.w3.org/2000/01/rdf-schema#label\": \"Tent of Miracles (novel)\",\n",
            "            \"http://dbpedia.org/ontology/wikiPageWikiLink\": {\n",
            "               \"__deferred\": {\n",
            "                  \"uri\": \"http://dbpedia.org/resource/French_New_Wave\"\n",
            "               }\n",
            "            },\n",
            "            \"http://purl.org/dc/terms/subject\": {\n",
            "               \"__deferred\": {\n",
            "                  \"uri\": \"http://dbpedia.org/resource/Category:Modernist_novels\"\n",
            "               }\n",
            "            },\n",
            "            \"http://www.w3.org/1999/02/22-rdf-syntax-ns#type\": {\n",
            "               \"__deferred\": {\n",
            "                  \"uri\": \"http://dbpedia.org/ontology/WrittenWork\"\n",
            "               }\n",
            "            },\n",
            "            \"http://dbpedia.org/property/wikiPageUsesTemplate\": {\n",
            "               \"__deferred\": {\n",
            "                  \"uri\": \"http://dbpedia.org/resource/Template:According_to_whom\"\n",
            "               }\n",
            "            },\n",
            "            \"http://www.w3.org/2000/01/rdf-schema#comment\": \"Tent of Miracles (Portuguese: Tenda dos Milagres) is a Brazilian Modernist novel. It was written by Jorge Amado in 1967 and published the following year. It was later adapted to a 1977 Cinema Novo (Nouvelle Vague) film by director/screenplay writer Nelson Pereira dos Santos.\",\n",
            "            \"http://dbpedia.org/ontology/abstract\": \"La bottega dei miracoli \\u00e8 un romanzo di Jorge Amado pubblicato nel 1960. Come altri romanzi dell&#39;autore (ad esempio Tieta d&#39;Agreste e Teresa Batista) \\u00e8 un testo composito, con un intreccio zigzagante fra analessi e prolessi, con mutamenti di voci narranti ed inserti di materiale eterogeneo.\\u00c8 possibile che l&#39;evento scatenante del racconto (la visita del famoso scienziato) sia stato ispirato dall&#39;esperienza vissuta; in quello stesso 1960, infatti, Jean Paul Sartre e Simone De Beauvoir visitarono il Brasile su invito dello stesso Amado: la visita divenne un evento mediatico, celebrato in numerose manifestazioni istituzionali.\",\n",
            "            \"http://dbpedia.org/property/pubDate\": \"1969\",\n",
            "            \"http://dbpedia.org/property/country\": {\n",
            "               \"__deferred\": {\n",
            "                  \"uri\": \"http://dbpedia.org/resource/Brazil\"\n",
            "               }\n",
            "            },\n",
            "            \"http://www.w3.org/2002/07/owl#sameAs\": {\n",
            "               \"__deferred\": {\n",
            "                  \"uri\": \"http://rdf.freebase.com/ns/m.02xrs4\"\n",
            "               }\n",
            "            },\n",
            "            \"http://dbpedia.org/ontology/wikiPageRevisionID\": \"974212123\",\n",
            "            \"http://dbpedia.org/property/author\": {\n",
            "               \"__deferred\": {\n",
            "                  \"uri\": \"http://dbpedia.org/resource/Jorge_Amado\"\n",
            "               }\n",
            "            },\n",
            "            \"http://dbpedia.org/ontology/author\": {\n",
            "               \"__deferred\": {\n",
            "                  \"uri\": \"http://dbpedia.org/resource/Jorge_Amado\"\n",
            "               }\n",
            "            },\n",
            "            \"http://xmlns.com/foaf/0.1/name\": \"Tenda dos Milagres\",\n",
            "            \"http://dbpedia.org/property/englishPubDate\": \"1971\",\n",
            "            \"http://dbpedia.org/ontology/country\": {\n",
            "               \"__deferred\": {\n",
            "                  \"uri\": \"http://dbpedia.org/resource/Brazil\"\n",
            "               }\n",
            "            },\n",
            "            \"http://dbpedia.org/property/name\": \"Tent of Miracles\",\n",
            "            \"http://purl.org/linguistics/gold/hypernym\": {\n",
            "               \"__deferred\": {\n",
            "                  \"uri\": \"http://dbpedia.org/resource/Novel\"\n",
            "               }\n",
            "            },\n",
            "            \"http://dbpedia.org/property/titleOrig\": \"Tenda dos Milagres\",\n",
            "            \"http://dbpedia.org/ontology/publisher\": {\n",
            "               \"__deferred\": {\n",
            "                  \"uri\": \"http://dbpedia.org/resource/Brazil\"\n",
            "               }\n",
            "            },\n",
            "            \"http://dbpedia.org/ontology/language\": {\n",
            "               \"__deferred\": {\n",
            "                  \"uri\": \"http://dbpedia.org/resource/Portuguese_language\"\n",
            "               }\n",
            "            },\n",
            "            \"http://www.w3.org/ns/prov#wasDerivedFrom\": {\n",
            "               \"__deferred\": {\n",
            "                  \"uri\": \"http://en.wikipedia.org/wiki/Tent_of_Miracles_(novel)?oldid=974212123&ns=0\"\n",
            "               }\n",
            "            },\n",
            "            \"http://dbpedia.org/ontology/wikiPageLength\": \"5253\",\n",
            "            \"http://purl.org/dc/elements/1.1/publisher\": \"Martins, Sao Paulo, Brazil\",\n",
            "            \"http://dbpedia.org/property/language\": {\n",
            "               \"__deferred\": {\n",
            "                  \"uri\": \"http://dbpedia.org/resource/Portuguese_language\"\n",
            "               }\n",
            "            },\n",
            "            \"http://dbpedia.org/ontology/wikiPageID\": \"623351\",\n",
            "            \"http://dbpedia.org/property/publisher\": \"Martins, Sao Paulo, Brazil\",\n",
            "            \"http://dbpedia.org/property/caption\": \"First edition\",\n",
            "            \"http://xmlns.com/foaf/0.1/isPrimaryTopicOf\": {\n",
            "               \"__deferred\": {\n",
            "                  \"uri\": \"http://en.wikipedia.org/wiki/Tent_of_Miracles_(novel)\"\n",
            "               }\n",
            "            }\n",
            "         }\n",
            "      ],\n",
            "      \"__count\": \"1\"\n",
            "   }\n",
            "}\n"
          ],
          "name": "stdout"
        }
      ]
    },
    {
      "cell_type": "markdown",
      "metadata": {
        "id": "dTPlp67AliKb"
      },
      "source": [
        "## Tarefa 2\n",
        "### Recupere via Python e mostre o autor de Tenda dos Milagres"
      ]
    },
    {
      "cell_type": "code",
      "metadata": {
        "colab": {
          "base_uri": "https://localhost:8080/"
        },
        "id": "97Yrr8ZElw7D",
        "outputId": "f5005fd0-61d0-4366-f361-264640ae5432"
      },
      "source": [
        "autor = js[\"d\"][\"results\"][0][\"http://dbpedia.org/ontology/author\"][\"__deferred\"][\"uri\"]\n",
        "print(\"Autor de Tenda dos Milagres: \" + autor)"
      ],
      "execution_count": 6,
      "outputs": [
        {
          "output_type": "stream",
          "text": [
            "Autor de Tenda dos Milagres: http://dbpedia.org/resource/Jorge_Amado\n"
          ],
          "name": "stdout"
        }
      ]
    },
    {
      "cell_type": "markdown",
      "metadata": {
        "id": "4x7FqguSmqgT"
      },
      "source": [
        "## Tarefa 3\n",
        "### Quais os termos usados para Aspirina (consulta JSON/MeSH em Python)?"
      ]
    },
    {
      "cell_type": "code",
      "metadata": {
        "colab": {
          "base_uri": "https://localhost:8080/"
        },
        "id": "kawbh37Ymy0N",
        "outputId": "427df8d8-8132-4fce-aa38-efb75c3e649e"
      },
      "source": [
        "url_template = \"https://id.nlm.nih.gov/mesh/lookup/descriptor?label={concept}&match={match}&limit={limit}\"\n",
        "\n",
        "concept = \"Aspirin\"\n",
        "match = \"exact\"\n",
        "limit = \"10\"\n",
        "\n",
        "concept = concept.replace(\" \", \"%20\")\n",
        "\n",
        "url = url_template.replace(\"{concept}\", concept)\\\n",
        "                  .replace(\"{match}\", match)\\\n",
        "                  .replace(\"{limit}\", limit)\n",
        "\n",
        "data = requests.get(url)\n",
        "js_mesh = data.json()\n",
        "print(json.dumps(js_mesh, indent=3))"
      ],
      "execution_count": 8,
      "outputs": [
        {
          "output_type": "stream",
          "text": [
            "[\n",
            "   {\n",
            "      \"resource\": \"http://id.nlm.nih.gov/mesh/D001241\",\n",
            "      \"label\": \"Aspirin\"\n",
            "   }\n",
            "]\n"
          ],
          "name": "stdout"
        }
      ]
    },
    {
      "cell_type": "code",
      "metadata": {
        "colab": {
          "base_uri": "https://localhost:8080/"
        },
        "id": "YyRK0umknYBi",
        "outputId": "0b6c9b6c-dc49-4703-f751-93318368e60d"
      },
      "source": [
        "# Obtendo o codigo do recurso:\n",
        "\n",
        "uri_mesh = js_mesh[0][\"resource\"]\n",
        "print(\"uri do recurso: \" + uri_mesh)\n",
        "code = uri_mesh.replace(\"http://id.nlm.nih.gov/mesh/\", \"\")\n",
        "print(\"código do recurso: \" + code)"
      ],
      "execution_count": 10,
      "outputs": [
        {
          "output_type": "stream",
          "text": [
            "uri do recurso: http://id.nlm.nih.gov/mesh/D001241\n",
            "código do recurso: D001241\n"
          ],
          "name": "stdout"
        }
      ]
    },
    {
      "cell_type": "code",
      "metadata": {
        "colab": {
          "base_uri": "https://localhost:8080/"
        },
        "id": "Nspg7UmvoZBT",
        "outputId": "90dabb82-7dea-4088-b976-a90bcbec2090"
      },
      "source": [
        "url_template = \"https://id.nlm.nih.gov/mesh/lookup/details?descriptor={code}\"\n",
        "\n",
        "url = url_template.replace(\"{code}\", code)\n",
        "\n",
        "data = requests.get(url)\n",
        "js_detail = data.json()\n",
        "print(json.dumps(js_detail, indent=3))"
      ],
      "execution_count": 11,
      "outputs": [
        {
          "output_type": "stream",
          "text": [
            "{\n",
            "   \"descriptor\": \"http://id.nlm.nih.gov/mesh/D001241\",\n",
            "   \"terms\": [\n",
            "      {\n",
            "         \"resource\": \"http://id.nlm.nih.gov/mesh/T003713\",\n",
            "         \"label\": \"Aspirin\",\n",
            "         \"preferred\": true\n",
            "      },\n",
            "      {\n",
            "         \"resource\": \"http://id.nlm.nih.gov/mesh/T003714\",\n",
            "         \"label\": \"2-(Acetyloxy)benzoic Acid\",\n",
            "         \"preferred\": false\n",
            "      },\n",
            "      {\n",
            "         \"resource\": \"http://id.nlm.nih.gov/mesh/T003712\",\n",
            "         \"label\": \"Acetylsalicylic Acid\",\n",
            "         \"preferred\": false\n",
            "      },\n",
            "      {\n",
            "         \"resource\": \"http://id.nlm.nih.gov/mesh/T003721\",\n",
            "         \"label\": \"Acetysal\",\n",
            "         \"preferred\": false\n",
            "      },\n",
            "      {\n",
            "         \"resource\": \"http://id.nlm.nih.gov/mesh/T003722\",\n",
            "         \"label\": \"Acylpyrin\",\n",
            "         \"preferred\": false\n",
            "      },\n",
            "      {\n",
            "         \"resource\": \"http://id.nlm.nih.gov/mesh/T003711\",\n",
            "         \"label\": \"Aloxiprimum\",\n",
            "         \"preferred\": false\n",
            "      },\n",
            "      {\n",
            "         \"resource\": \"http://id.nlm.nih.gov/mesh/T003723\",\n",
            "         \"label\": \"Colfarit\",\n",
            "         \"preferred\": false\n",
            "      },\n",
            "      {\n",
            "         \"resource\": \"http://id.nlm.nih.gov/mesh/T003715\",\n",
            "         \"label\": \"Dispril\",\n",
            "         \"preferred\": false\n",
            "      },\n",
            "      {\n",
            "         \"resource\": \"http://id.nlm.nih.gov/mesh/T003719\",\n",
            "         \"label\": \"Easprin\",\n",
            "         \"preferred\": false\n",
            "      },\n",
            "      {\n",
            "         \"resource\": \"http://id.nlm.nih.gov/mesh/T003724\",\n",
            "         \"label\": \"Ecotrin\",\n",
            "         \"preferred\": false\n",
            "      },\n",
            "      {\n",
            "         \"resource\": \"http://id.nlm.nih.gov/mesh/T003725\",\n",
            "         \"label\": \"Endosprin\",\n",
            "         \"preferred\": false\n",
            "      },\n",
            "      {\n",
            "         \"resource\": \"http://id.nlm.nih.gov/mesh/T003726\",\n",
            "         \"label\": \"Magnecyl\",\n",
            "         \"preferred\": false\n",
            "      },\n",
            "      {\n",
            "         \"resource\": \"http://id.nlm.nih.gov/mesh/T003727\",\n",
            "         \"label\": \"Micristin\",\n",
            "         \"preferred\": false\n",
            "      },\n",
            "      {\n",
            "         \"resource\": \"http://id.nlm.nih.gov/mesh/T003717\",\n",
            "         \"label\": \"Polopirin\",\n",
            "         \"preferred\": false\n",
            "      },\n",
            "      {\n",
            "         \"resource\": \"http://id.nlm.nih.gov/mesh/T003728\",\n",
            "         \"label\": \"Polopiryna\",\n",
            "         \"preferred\": false\n",
            "      },\n",
            "      {\n",
            "         \"resource\": \"http://id.nlm.nih.gov/mesh/T003716\",\n",
            "         \"label\": \"Solprin\",\n",
            "         \"preferred\": false\n",
            "      },\n",
            "      {\n",
            "         \"resource\": \"http://id.nlm.nih.gov/mesh/T003718\",\n",
            "         \"label\": \"Solupsan\",\n",
            "         \"preferred\": false\n",
            "      },\n",
            "      {\n",
            "         \"resource\": \"http://id.nlm.nih.gov/mesh/T003720\",\n",
            "         \"label\": \"Zorprin\",\n",
            "         \"preferred\": false\n",
            "      }\n",
            "   ],\n",
            "   \"qualifiers\": [\n",
            "      {\n",
            "         \"resource\": \"http://id.nlm.nih.gov/mesh/Q000008\",\n",
            "         \"label\": \"administration & dosage\"\n",
            "      },\n",
            "      {\n",
            "         \"resource\": \"http://id.nlm.nih.gov/mesh/Q000009\",\n",
            "         \"label\": \"adverse effects\"\n",
            "      },\n",
            "      {\n",
            "         \"resource\": \"http://id.nlm.nih.gov/mesh/Q000819\",\n",
            "         \"label\": \"agonists\"\n",
            "      },\n",
            "      {\n",
            "         \"resource\": \"http://id.nlm.nih.gov/mesh/Q000031\",\n",
            "         \"label\": \"analogs & derivatives\"\n",
            "      },\n",
            "      {\n",
            "         \"resource\": \"http://id.nlm.nih.gov/mesh/Q000032\",\n",
            "         \"label\": \"analysis\"\n",
            "      },\n",
            "      {\n",
            "         \"resource\": \"http://id.nlm.nih.gov/mesh/Q000037\",\n",
            "         \"label\": \"antagonists & inhibitors\"\n",
            "      },\n",
            "      {\n",
            "         \"resource\": \"http://id.nlm.nih.gov/mesh/Q000097\",\n",
            "         \"label\": \"blood\"\n",
            "      },\n",
            "      {\n",
            "         \"resource\": \"http://id.nlm.nih.gov/mesh/Q000134\",\n",
            "         \"label\": \"cerebrospinal fluid\"\n",
            "      },\n",
            "      {\n",
            "         \"resource\": \"http://id.nlm.nih.gov/mesh/Q000138\",\n",
            "         \"label\": \"chemical synthesis\"\n",
            "      },\n",
            "      {\n",
            "         \"resource\": \"http://id.nlm.nih.gov/mesh/Q000737\",\n",
            "         \"label\": \"chemistry\"\n",
            "      },\n",
            "      {\n",
            "         \"resource\": \"http://id.nlm.nih.gov/mesh/Q000145\",\n",
            "         \"label\": \"classification\"\n",
            "      },\n",
            "      {\n",
            "         \"resource\": \"http://id.nlm.nih.gov/mesh/Q000191\",\n",
            "         \"label\": \"economics\"\n",
            "      },\n",
            "      {\n",
            "         \"resource\": \"http://id.nlm.nih.gov/mesh/Q000266\",\n",
            "         \"label\": \"history\"\n",
            "      },\n",
            "      {\n",
            "         \"resource\": \"http://id.nlm.nih.gov/mesh/Q000276\",\n",
            "         \"label\": \"immunology\"\n",
            "      },\n",
            "      {\n",
            "         \"resource\": \"http://id.nlm.nih.gov/mesh/Q000302\",\n",
            "         \"label\": \"isolation & purification\"\n",
            "      },\n",
            "      {\n",
            "         \"resource\": \"http://id.nlm.nih.gov/mesh/Q000378\",\n",
            "         \"label\": \"metabolism\"\n",
            "      },\n",
            "      {\n",
            "         \"resource\": \"http://id.nlm.nih.gov/mesh/Q000493\",\n",
            "         \"label\": \"pharmacokinetics\"\n",
            "      },\n",
            "      {\n",
            "         \"resource\": \"http://id.nlm.nih.gov/mesh/Q000494\",\n",
            "         \"label\": \"pharmacology\"\n",
            "      },\n",
            "      {\n",
            "         \"resource\": \"http://id.nlm.nih.gov/mesh/Q000506\",\n",
            "         \"label\": \"poisoning\"\n",
            "      },\n",
            "      {\n",
            "         \"resource\": \"http://id.nlm.nih.gov/mesh/Q000528\",\n",
            "         \"label\": \"radiation effects\"\n",
            "      },\n",
            "      {\n",
            "         \"resource\": \"http://id.nlm.nih.gov/mesh/Q000592\",\n",
            "         \"label\": \"standards\"\n",
            "      },\n",
            "      {\n",
            "         \"resource\": \"http://id.nlm.nih.gov/mesh/Q000600\",\n",
            "         \"label\": \"supply & distribution\"\n",
            "      },\n",
            "      {\n",
            "         \"resource\": \"http://id.nlm.nih.gov/mesh/Q000627\",\n",
            "         \"label\": \"therapeutic use\"\n",
            "      },\n",
            "      {\n",
            "         \"resource\": \"http://id.nlm.nih.gov/mesh/Q000633\",\n",
            "         \"label\": \"toxicity\"\n",
            "      },\n",
            "      {\n",
            "         \"resource\": \"http://id.nlm.nih.gov/mesh/Q000652\",\n",
            "         \"label\": \"urine\"\n",
            "      }\n",
            "   ],\n",
            "   \"seealso\": []\n",
            "}\n"
          ],
          "name": "stdout"
        }
      ]
    },
    {
      "cell_type": "markdown",
      "metadata": {
        "id": "Ii0q9S_Po4Oi"
      },
      "source": [
        "## Tarefa 4\n",
        "### Escolha algum lugar no OpenStreetMap e elabore a mesma sequência de três chamadas de serviços para o seu conceito."
      ]
    },
    {
      "cell_type": "code",
      "metadata": {
        "colab": {
          "base_uri": "https://localhost:8080/"
        },
        "id": "vGCnIdK1pCHs",
        "outputId": "ff9b4f2d-0bba-472d-8311-01db0367793a"
      },
      "source": [
        "#Lugar escolhido: Ponte Skywalk, Grand Canyon.\n",
        "\n",
        "url_template = \"http://nominatim.openstreetmap.org/search?format={format}&q={query}\"\n",
        "format = \"json\"\n",
        "query = \"Skywalk\"\n",
        "\n",
        "url = url_template.replace(\"{format}\", format)\\\n",
        "                  .replace(\"{query}\", query)\n",
        "\n",
        "data = requests.get(url)\n",
        "osm_ref = data.json()\n",
        "print(json.dumps(osm_ref, indent=3))"
      ],
      "execution_count": 12,
      "outputs": [
        {
          "output_type": "stream",
          "text": [
            "[\n",
            "   {\n",
            "      \"place_id\": 130256081,\n",
            "      \"licence\": \"Data \\u00a9 OpenStreetMap contributors, ODbL 1.0. https://osm.org/copyright\",\n",
            "      \"osm_type\": \"way\",\n",
            "      \"osm_id\": 170214302,\n",
            "      \"boundingbox\": [\n",
            "         \"36.0118125\",\n",
            "         \"36.0122407\",\n",
            "         \"-113.8112758\",\n",
            "         \"-113.81087\"\n",
            "      ],\n",
            "      \"lat\": \"36.0120252\",\n",
            "      \"lon\": \"-113.81104678059211\",\n",
            "      \"display_name\": \"Grand Canyon Skywalk, Mohave County, Arizona, United States\",\n",
            "      \"class\": \"tourism\",\n",
            "      \"type\": \"attraction\",\n",
            "      \"importance\": 0.437269171634054,\n",
            "      \"icon\": \"https://nominatim.openstreetmap.org/ui/mapicons//poi_point_of_interest.p.20.png\"\n",
            "   },\n",
            "   {\n",
            "      \"place_id\": 98912343,\n",
            "      \"licence\": \"Data \\u00a9 OpenStreetMap contributors, ODbL 1.0. https://osm.org/copyright\",\n",
            "      \"osm_type\": \"way\",\n",
            "      \"osm_id\": 32023075,\n",
            "      \"boundingbox\": [\n",
            "         \"43.6430616\",\n",
            "         \"43.6441687\",\n",
            "         \"-79.3856874\",\n",
            "         \"-79.3842345\"\n",
            "      ],\n",
            "      \"lat\": \"43.6432987\",\n",
            "      \"lon\": \"-79.3846544\",\n",
            "      \"display_name\": \"SkyWalk, Entertainment District, Spadina\\u2014Fort York, Old Toronto, Toronto, Golden Horseshoe, Ontario, M5V 2X3, Canada\",\n",
            "      \"class\": \"highway\",\n",
            "      \"type\": \"footway\",\n",
            "      \"importance\": 0.33181178765025976\n",
            "   },\n",
            "   {\n",
            "      \"place_id\": 94978922,\n",
            "      \"licence\": \"Data \\u00a9 OpenStreetMap contributors, ODbL 1.0. https://osm.org/copyright\",\n",
            "      \"osm_type\": \"way\",\n",
            "      \"osm_id\": 23175695,\n",
            "      \"boundingbox\": [\n",
            "         \"52.3178692\",\n",
            "         \"52.3186653\",\n",
            "         \"9.7936242\",\n",
            "         \"9.7980518\"\n",
            "      ],\n",
            "      \"lat\": \"52.3183644\",\n",
            "      \"lon\": \"9.7964006\",\n",
            "      \"display_name\": \"Skywalk, Alt-Laatzen, D\\u00f6hren-W\\u00fclfel, Laatzen, Region Hannover, Niedersachsen, 30521, Deutschland\",\n",
            "      \"class\": \"highway\",\n",
            "      \"type\": \"footway\",\n",
            "      \"importance\": 0.2519138440405379\n",
            "   },\n",
            "   {\n",
            "      \"place_id\": 176982856,\n",
            "      \"licence\": \"Data \\u00a9 OpenStreetMap contributors, ODbL 1.0. https://osm.org/copyright\",\n",
            "      \"osm_type\": \"way\",\n",
            "      \"osm_id\": 368821693,\n",
            "      \"boundingbox\": [\n",
            "         \"41.9775661\",\n",
            "         \"41.9776778\",\n",
            "         \"-91.6680443\",\n",
            "         \"-91.6678341\"\n",
            "      ],\n",
            "      \"lat\": \"41.9775661\",\n",
            "      \"lon\": \"-91.6680241\",\n",
            "      \"display_name\": \"Skywalk, Downtown, Cedar Rapids, Linn County, Iowa, 52401, United States\",\n",
            "      \"class\": \"highway\",\n",
            "      \"type\": \"corridor\",\n",
            "      \"importance\": 0.21\n",
            "   }\n",
            "]\n"
          ],
          "name": "stdout"
        }
      ]
    },
    {
      "cell_type": "markdown",
      "metadata": {
        "id": "FiamtkdbqvDD"
      },
      "source": [
        "### Extraindo o Identificador OSM"
      ]
    },
    {
      "cell_type": "code",
      "metadata": {
        "colab": {
          "base_uri": "https://localhost:8080/"
        },
        "id": "PVqXD1A4qGHs",
        "outputId": "726890a8-8341-4c11-918b-8b9e17f50cc2"
      },
      "source": [
        "# O open street map encontrou vários endereços, o que queremos é o do grand canyon, que tem posição 0 na lista de dicionarios.\n",
        "print(\"Identificador: \" + str(osm_ref[0][\"osm_id\"]) + \" ||| Endereço: \" + osm_ref[0][\"display_name\"] + \" ||| Tipo de Elemento: \" + osm_ref[0][\"osm_type\"])"
      ],
      "execution_count": 19,
      "outputs": [
        {
          "output_type": "stream",
          "text": [
            "Identificador: 170214302 ||| Endereço: Grand Canyon Skywalk, Mohave County, Arizona, United States ||| Tipo de Elemento: way\n"
          ],
          "name": "stdout"
        }
      ]
    },
    {
      "cell_type": "markdown",
      "metadata": {
        "id": "IsNi3180rpS3"
      },
      "source": [
        "### Executando REST API do Open Street Map para Elementos"
      ]
    },
    {
      "cell_type": "code",
      "metadata": {
        "colab": {
          "base_uri": "https://localhost:8080/"
        },
        "id": "C4AtvqU5rf07",
        "outputId": "be21a6a2-9b76-4374-9da8-e1b6a604431b"
      },
      "source": [
        "url_template = \"https://api.openstreetmap.org/api/0.6/{element_type}/{id}.{format}\"\n",
        "\n",
        "element_type = osm_ref[0][\"osm_type\"]\n",
        "id = str(osm_ref[0][\"osm_id\"])\n",
        "format = \"json\"\n",
        "\n",
        "url = url_template.replace(\"{element_type}\", element_type)\\\n",
        "                  .replace(\"{id}\", id)\\\n",
        "                  .replace(\"{format}\", format)\n",
        "\n",
        "data = requests.get(url)\n",
        "osm_element = data.json()\n",
        "print(json.dumps(osm_element, indent=3))"
      ],
      "execution_count": 20,
      "outputs": [
        {
          "output_type": "stream",
          "text": [
            "{\n",
            "   \"version\": \"0.6\",\n",
            "   \"generator\": \"CGImap 0.8.5 (2037397 spike-06.openstreetmap.org)\",\n",
            "   \"copyright\": \"OpenStreetMap and contributors\",\n",
            "   \"attribution\": \"http://www.openstreetmap.org/copyright\",\n",
            "   \"license\": \"http://opendatacommons.org/licenses/odbl/1-0/\",\n",
            "   \"elements\": [\n",
            "      {\n",
            "         \"type\": \"way\",\n",
            "         \"id\": 170214302,\n",
            "         \"timestamp\": \"2017-11-29T02:01:02Z\",\n",
            "         \"version\": 6,\n",
            "         \"changeset\": 54165131,\n",
            "         \"user\": \"JessAk71\",\n",
            "         \"uid\": 381909,\n",
            "         \"nodes\": [\n",
            "            1683650814,\n",
            "            1683650815,\n",
            "            1813707853,\n",
            "            1813707855,\n",
            "            1813707860,\n",
            "            1813707858,\n",
            "            1813707838,\n",
            "            1683650781,\n",
            "            1683650778,\n",
            "            1683650816,\n",
            "            1683650808,\n",
            "            1683650812,\n",
            "            1683650802,\n",
            "            1683650782,\n",
            "            1683650814\n",
            "         ],\n",
            "         \"tags\": {\n",
            "            \"building\": \"yes\",\n",
            "            \"ele\": \"1450\",\n",
            "            \"name\": \"Grand Canyon Skywalk\",\n",
            "            \"name:en\": \"Skywalk\",\n",
            "            \"name:fr\": \"Skywalk\",\n",
            "            \"name:zh\": \"\\u5927\\u5ce1\\u8c37\\u5929\\u7a7a\\u6b65\\u9053\",\n",
            "            \"start_date\": \"2007\",\n",
            "            \"tourism\": \"attraction\",\n",
            "            \"website\": \"http://www.grandcanyonskywalk.com/\",\n",
            "            \"wikipedia\": \"en:Grand Canyon Skywalk\"\n",
            "         }\n",
            "      }\n",
            "   ]\n",
            "}\n"
          ],
          "name": "stdout"
        }
      ]
    },
    {
      "cell_type": "markdown",
      "metadata": {
        "id": "RY6NRJqIslyT"
      },
      "source": [
        "### Extraindo o Identificador DBPedia"
      ]
    },
    {
      "cell_type": "code",
      "metadata": {
        "colab": {
          "base_uri": "https://localhost:8080/"
        },
        "id": "n1r4GpXjspZC",
        "outputId": "9766738b-77ef-4403-88d1-dae618f8c387"
      },
      "source": [
        "print(osm_element[\"elements\"][0][\"tags\"][\"wikipedia\"])"
      ],
      "execution_count": 21,
      "outputs": [
        {
          "output_type": "stream",
          "text": [
            "en:Grand Canyon Skywalk\n"
          ],
          "name": "stdout"
        }
      ]
    },
    {
      "cell_type": "markdown",
      "metadata": {
        "id": "Q6nW1yWOs6qM"
      },
      "source": [
        "### Executando o REST API do DBPedia"
      ]
    },
    {
      "cell_type": "code",
      "metadata": {
        "colab": {
          "base_uri": "https://localhost:8080/"
        },
        "id": "C4_kdtA7s9Qy",
        "outputId": "1ce3099b-47c4-49ad-db17-57ea718927aa"
      },
      "source": [
        "url_template = \"http://dbpedia.org/data/{concept}.{format}\"\n",
        "concept = osm_element[\"elements\"][0][\"tags\"][\"wikipedia\"].replace(\" \", \"_\")\\\n",
        "                                                        .replace(\"en:\", \"\")\n",
        "format = \"jsod\"\n",
        "\n",
        "url = url_template.replace(\"{concept}\", concept)\\\n",
        "                  .replace(\"{format}\", format)\n",
        "\n",
        "data = requests.get(url)\n",
        "element_dbpedia = data.json()\n",
        "print(json.dumps(element_dbpedia, indent=3))"
      ],
      "execution_count": 22,
      "outputs": [
        {
          "output_type": "stream",
          "text": [
            "{\n",
            "   \"d\": {\n",
            "      \"results\": [\n",
            "         {\n",
            "            \"__metadata\": {\n",
            "               \"uri\": \"http://dbpedia.org/resource/Grand_Canyon_Skywalk\"\n",
            "            },\n",
            "            \"http://dbpedia.org/ontology/wikiPageWikiLink\": {\n",
            "               \"__deferred\": {\n",
            "                  \"uri\": \"http://dbpedia.org/resource/Alcohol_and_Native_Americans\"\n",
            "               }\n",
            "            },\n",
            "            \"http://www.w3.org/2003/01/geo/wgs84_pos#geometry\": \"POINT(-113.8111114502 36.012222290039)\",\n",
            "            \"http://purl.org/dc/terms/subject\": {\n",
            "               \"__deferred\": {\n",
            "                  \"uri\": \"http://dbpedia.org/resource/Category:Tourist_attractions_in_Coconino_County,_Arizona\"\n",
            "               }\n",
            "            },\n",
            "            \"http://www.w3.org/2002/07/owl#sameAs\": {\n",
            "               \"__deferred\": {\n",
            "                  \"uri\": \"http://ko.dbpedia.org/resource/\\uadf8\\ub79c\\ub4dc_\\uce90\\ub2c8\\uc5b8_\\uc2a4\\uce74\\uc774\\uc6cc\\ud06c\"\n",
            "               }\n",
            "            },\n",
            "            \"http://www.w3.org/2000/01/rdf-schema#comment\": \"Grand Canyon Skywalk estas konstruata turisma alloga\\u0135o en Usono (sub\\u015dtato Arizono), ekfunkcianta la 2-an de marto 2007. \\u011ci situas sur/super la tereno de la indi\\u011dena tribo &quot;Hualapai&quot; [\\u016dAlapaj], kiu mendis \\u011dian konstruon por gajni enspezojn. \\u011ci estas vitra promenejo, longanta \\u0109irka\\u016d 21 m internen kaj pendante \\u0109irka\\u016d 1220 m super la Granda Kanjono. \\u011ci estas fiksita sur rando de la kanjono, \\u0109irka\\u016d 12 m profunde en la grundon.\",\n",
            "            \"http://dbpedia.org/property/name\": \"Grand Canyon Skywalk\",\n",
            "            \"http://dbpedia.org/property/wikiPageUsesTemplate\": {\n",
            "               \"__deferred\": {\n",
            "                  \"uri\": \"http://dbpedia.org/resource/Template:Cite_web\"\n",
            "               }\n",
            "            },\n",
            "            \"http://dbpedia.org/property/officialName\": \"Grand Canyon Skywalk\",\n",
            "            \"http://www.w3.org/1999/02/22-rdf-syntax-ns#type\": {\n",
            "               \"__deferred\": {\n",
            "                  \"uri\": \"http://dbpedia.org/class/yago/Location100027167\"\n",
            "               }\n",
            "            },\n",
            "            \"http://dbpedia.org/ontology/locatedInArea\": {\n",
            "               \"__deferred\": {\n",
            "                  \"uri\": \"http://dbpedia.org/resource/Grand_Canyon\"\n",
            "               }\n",
            "            },\n",
            "            \"http://dbpedia.org/property/material\": \"glass\",\n",
            "            \"http://www.w3.org/2000/01/rdf-schema#label\": \"\\u0645\\u0645\\u0634\\u0649 \\u063a\\u0631\\u0627\\u0646\\u062f \\u0643\\u0627\\u0646\\u064a\\u0648\\u0646\",\n",
            "            \"http://dbpedia.org/property/design\": \"Curved pedestrian cantilever bridge\",\n",
            "            \"http://purl.org/linguistics/gold/hypernym\": {\n",
            "               \"__deferred\": {\n",
            "                  \"uri\": \"http://dbpedia.org/resource/Bridge\"\n",
            "               }\n",
            "            },\n",
            "            \"http://dbpedia.org/ontology/abstract\": \"La passerella sul Grand Canyon (in inglese: Grand Canyon Skywalk) \\u00e8 una passerella sopraelevata a ferro di cavallo con pavimentazione trasparente situata in Arizona, Stati Uniti d&#39;America, vicino al fiume Colorado sulla cima di un canyon laterale nell&#39;area del Grand Canyon occidentale. Le mappe topografiche della USGS indicano un&#39;altitudine di 1.450 metri sul livello del mare, mentre il fiume Colorado si trova a 350 metri s.l.m.; l&#39;altezza verticale a di sotto della passerelle trasparente varia tra i 150 e 240 metri. Commissionata e gestita dalla trib\\u00f9 indiana degli Hualapai, la struttura \\u00e8 stata presentata il 20 marzo 2007, ed aperta al pubblico il 28 marzo successivo. Vi si accede tramite il terminal del Grand Canyon West Airport oppure guidando per circa 190 km da Las Vegas. La skywalk si trova a est della comunit\\u00e0 di Meadview e a nord di Peach Springs, mentre la cittadina pi\\u00f9 abitata nella zona \\u00e8 Kingman.\",\n",
            "            \"http://dbpedia.org/property/owner\": \"Hualapai Tribe\",\n",
            "            \"http://dbpedia.org/ontology/type\": {\n",
            "               \"__deferred\": {\n",
            "                  \"uri\": \"http://dbpedia.org/resource/Cantilever_bridge\"\n",
            "               }\n",
            "            },\n",
            "            \"http://dbpedia.org/ontology/wikiPageExternalLink\": {\n",
            "               \"__deferred\": {\n",
            "                  \"uri\": \"https://www.grandcanyonwest.com/skywalk--eagle-point.htm%7Cauthor=Grand\"\n",
            "               }\n",
            "            },\n",
            "            \"http://dbpedia.org/ontology/wikiPageRevisionID\": \"1019711420\",\n",
            "            \"http://www.w3.org/2003/01/geo/wgs84_pos#lat\": \"36.01222229003906\",\n",
            "            \"http://dbpedia.org/property/open\": \"2007-03-28\",\n",
            "            \"http://xmlns.com/foaf/0.1/depiction\": {\n",
            "               \"__deferred\": {\n",
            "                  \"uri\": \"http://commons.wikimedia.org/wiki/Special:FilePath/SkywalkFromOutsideLedge.jpg\"\n",
            "               }\n",
            "            },\n",
            "            \"http://www.w3.org/ns/prov#wasDerivedFrom\": {\n",
            "               \"__deferred\": {\n",
            "                  \"uri\": \"http://en.wikipedia.org/wiki/Grand_Canyon_Skywalk?oldid=1019711420&ns=0\"\n",
            "               }\n",
            "            },\n",
            "            \"http://dbpedia.org/property/architect\": \"Mark Ross Johnson\",\n",
            "            \"http://dbpedia.org/ontology/Infrastructure/length\": \"0.021336\",\n",
            "            \"http://dbpedia.org/ontology/thumbnail\": {\n",
            "               \"__deferred\": {\n",
            "                  \"uri\": \"http://commons.wikimedia.org/wiki/Special:FilePath/SkywalkFromOutsideLedge.jpg?width=300\"\n",
            "               }\n",
            "            },\n",
            "            \"http://dbpedia.org/property/mapType\": \"USA\",\n",
            "            \"http://dbpedia.org/ontology/length\": \"21.336\",\n",
            "            \"http://dbpedia.org/ontology/wikiPageID\": \"3294066\",\n",
            "            \"http://dbpedia.org/property/caption\": \"Skywalk from Outside Ledge\",\n",
            "            \"http://dbpedia.org/property/locale\": \"Grand Canyon, Arizona, USA\",\n",
            "            \"http://dbpedia.org/property/imageSize\": \"280\",\n",
            "            \"http://www.w3.org/2003/01/geo/wgs84_pos#long\": \"-113.8111114501953\",\n",
            "            \"http://dbpedia.org/property/mapCaption\": \"Location in USA\",\n",
            "            \"http://dbpedia.org/ontology/width\": \"3.048\",\n",
            "            \"http://dbpedia.org/ontology/openingYear\": \"2007\",\n",
            "            \"http://dbpedia.org/ontology/bridgeCarries\": \"Pedestrian\",\n",
            "            \"http://dbpedia.org/ontology/wikiPageLength\": \"14222\",\n",
            "            \"http://dbpedia.org/property/carries\": \"Pedestrian\",\n",
            "            \"http://dbpedia.org/ontology/openingDate\": \"2007-03-28\",\n",
            "            \"http://xmlns.com/foaf/0.1/name\": \"Grand Canyon Skywalk\",\n",
            "            \"http://www.georss.org/georss/point\": \"36.01222222222222 -113.81111111111112\",\n",
            "            \"http://xmlns.com/foaf/0.1/isPrimaryTopicOf\": {\n",
            "               \"__deferred\": {\n",
            "                  \"uri\": \"http://en.wikipedia.org/wiki/Grand_Canyon_Skywalk\"\n",
            "               }\n",
            "            }\n",
            "         }\n",
            "      ],\n",
            "      \"__count\": \"1\"\n",
            "   }\n",
            "}\n"
          ],
          "name": "stdout"
        }
      ]
    },
    {
      "cell_type": "markdown",
      "metadata": {
        "id": "ugawHMLHt470"
      },
      "source": [
        "### Mostrando Link de Acesso do elemento ao DbPedia"
      ]
    },
    {
      "cell_type": "code",
      "metadata": {
        "colab": {
          "base_uri": "https://localhost:8080/"
        },
        "id": "Pj2SXH8ztcQM",
        "outputId": "c1b233cb-ba9f-42a6-c3d8-2fcfa69e9643"
      },
      "source": [
        "print(\"Link de acesso: \" + element_dbpedia[\"d\"][\"results\"][0][\"__metadata\"][\"uri\"])"
      ],
      "execution_count": 23,
      "outputs": [
        {
          "output_type": "stream",
          "text": [
            "Link de acesso: http://dbpedia.org/resource/Grand_Canyon_Skywalk\n"
          ],
          "name": "stdout"
        }
      ]
    }
  ]
}